{
 "cells": [
  {
   "cell_type": "markdown",
   "id": "f71edf44",
   "metadata": {},
   "source": [
    "My Jupyter Notebook on IBM  Watson Studio"
   ]
  },
  {
   "cell_type": "markdown",
   "id": "f7ddc9fe",
   "metadata": {},
   "source": [
    "**Srilatha Stephen**\n",
    "\n",
    "Engineer"
   ]
  },
  {
   "cell_type": "markdown",
   "id": "ce063250",
   "metadata": {},
   "source": [
    "*I am interested in data science because it is a world of endless possibilities.*"
   ]
  },
  {
   "cell_type": "markdown",
   "id": "7ffa8cab",
   "metadata": {},
   "source": [
    "**The code in cell 5 will give the total when you add 56 + 34**"
   ]
  },
  {
   "cell_type": "code",
   "execution_count": 10,
   "id": "b84a709f",
   "metadata": {},
   "outputs": [
    {
     "name": "stdout",
     "output_type": "stream",
     "text": [
      "90\n"
     ]
    }
   ],
   "source": [
    "print(56+34)\n"
   ]
  },
  {
   "cell_type": "markdown",
   "id": "436c3b9c",
   "metadata": {},
   "source": [
    "| Name   | Age| Gender| \n",
    "| ------ | ---|-------|\n",
    "| Eliora | 12 |  F    |\n",
    "| Steve  | 49 |  M    |\n",
    "| Faith  | 17 |  F    |"
   ]
  },
  {
   "cell_type": "code",
   "execution_count": null,
   "id": "7a934cc8",
   "metadata": {},
   "outputs": [],
   "source": []
  }
 ],
 "metadata": {
  "kernelspec": {
   "display_name": "Python 3 (ipykernel)",
   "language": "python",
   "name": "python3"
  },
  "language_info": {
   "codemirror_mode": {
    "name": "ipython",
    "version": 3
   },
   "file_extension": ".py",
   "mimetype": "text/x-python",
   "name": "python",
   "nbconvert_exporter": "python",
   "pygments_lexer": "ipython3",
   "version": "3.9.13"
  }
 },
 "nbformat": 4,
 "nbformat_minor": 5
}
